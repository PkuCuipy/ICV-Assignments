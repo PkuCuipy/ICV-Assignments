{
 "cells": [
  {
   "cell_type": "code",
   "execution_count": 1,
   "metadata": {
    "pycharm": {
     "name": "#%%\n"
    }
   },
   "outputs": [],
   "source": [
    "import numpy as np\n",
    "from lookup_table import CaseNum2EdgeOffset, getCaseNum\n",
    "import trimesh\n",
    "import os\n",
    "import time"
   ]
  },
  {
   "cell_type": "code",
   "execution_count": 2,
   "metadata": {
    "pycharm": {
     "name": "#%%\n"
    }
   },
   "outputs": [],
   "source": [
    "def marching_cube(isovalue, grid):\n",
    "    # grid[x][y][z] < threshold 意味着 (x, y, z) 是物体内部的点\n",
    "    grid = np.array(grid)\n",
    "    # -------------------TODO------------------\n",
    "    # - compute vertices and faces.\n",
    "    # - return:\n",
    "    #       vertices: [N, 3]\n",
    "    #       faces: [M, 3], e.g. np.array([[0,1,2]]) means a triangle composed of vertices[0], vertices[1] and vertices[2]\n",
    "    # - for-loop is allowed to reduce difficulty\n",
    "    # -------------------TODO------------------\n",
    "    t1 = time.time()\n",
    "    triangles = []  # List[List[Tuple[int; 3]; 3]; N]\n",
    "    for x in range(grid.shape[0] - 1):\n",
    "        for y in range(grid.shape[1] - 1):\n",
    "            for z in range(grid.shape[2] - 1):\n",
    "                xyz = np.array([x, y, z])\n",
    "                case_nums = getCaseNum(x, y, z, isovalue, grid)\n",
    "                edges = case_nums[case_nums != -1].reshape(-1, 3)   # -> (N, 3), 其中 N 是三角形数目, 3 是三角形的三条边的编号 (0..12)\n",
    "                edges = CaseNum2EdgeOffset[edges]                   # -> (N, 3, 6), 其中 N 是三角形数目, 3 是三角形的三条边, 6 是每条边的两个顶点的 (x,y,z, x,y,z)\n",
    "                for triangle in edges:\n",
    "                    three_points = []\n",
    "                    for edge in triangle:\n",
    "                        P1 = xyz + edge[:3]\n",
    "                        P2 = xyz + edge[3:]\n",
    "                        V1 = grid[tuple(P1)]\n",
    "                        V2 = grid[tuple(P2)]\n",
    "                        P = P1 + ((isovalue - V1) / (V2 - V1)) * (P2 - P1)\n",
    "                        three_points.append(tuple(P))\n",
    "                    triangles.append(three_points)\n",
    "\n",
    "    vertex_array = list(set(tup for tri in triangles for tup in tri))\n",
    "    vtx_to_idx = dict(zip(vertex_array, range(len(vertex_array))))\n",
    "    face_array = [tuple(vtx_to_idx[vtx] for vtx in tri) for tri in triangles]\n",
    "\n",
    "    t2 = time.time()\n",
    "    print(\"\\nTime taken by algorithm\\n\" + '-' * 40 + \"\\n{} s\".format(t2 - t1))\n",
    "\n",
    "    return np.array(vertex_array), np.array(face_array)"
   ]
  },
  {
   "cell_type": "code",
   "execution_count": 3,
   "metadata": {
    "pycharm": {
     "name": "#%%\n"
    }
   },
   "outputs": [
    {
     "name": "stdout",
     "output_type": "stream",
     "text": [
      "\n",
      "Time taken by algorithm\n",
      "----------------------------------------\n",
      "2.734182834625244 s\n",
      "\n",
      "Time taken by algorithm\n",
      "----------------------------------------\n",
      "2.8318920135498047 s\n"
     ]
    }
   ],
   "source": [
    "# reconstruct these two animals\n",
    "shape_name_lst = ['spot', 'bob']\n",
    "for shape_name in shape_name_lst:\n",
    "    data = np.load(os.path.join('data', shape_name + '_cell.npy'))\n",
    "    verts, faces = marching_cube(0, data)\n",
    "    mesh = trimesh.Trimesh(vertices=verts, faces=faces)\n",
    "    mesh_txt = trimesh.exchange.obj.export_obj(mesh)\n",
    "    with open(os.path.join('../results', shape_name + '.obj'), \"w\") as fp:\n",
    "        fp.write(mesh_txt)"
   ]
  }
 ],
 "metadata": {
  "interpreter": {
   "hash": "436b5965732ccf282764bcf9546f770885eff9f048ad24ec0c34e8c61e883580"
  },
  "kernelspec": {
   "display_name": "Python 3.7.4 ('base')",
   "language": "python",
   "name": "python3"
  },
  "language_info": {
   "codemirror_mode": {
    "name": "ipython",
    "version": 3
   },
   "file_extension": ".py",
   "mimetype": "text/x-python",
   "name": "python",
   "nbconvert_exporter": "python",
   "pygments_lexer": "ipython3",
   "version": "3.7.4"
  },
  "orig_nbformat": 4
 },
 "nbformat": 4,
 "nbformat_minor": 2
}