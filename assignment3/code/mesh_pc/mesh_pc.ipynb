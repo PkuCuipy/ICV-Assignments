{
 "cells": [
  {
   "cell_type": "code",
   "execution_count": 7,
   "metadata": {
    "pycharm": {
     "name": "#%%\n"
    }
   },
   "outputs": [],
   "source": [
    "import numpy as np\n",
    "import trimesh\n",
    "import tqdm"
   ]
  },
  {
   "cell_type": "code",
   "execution_count": 8,
   "metadata": {
    "pycharm": {
     "name": "#%%\n"
    }
   },
   "outputs": [],
   "source": [
    "def uniform_sampling_from_mesh(vertices, faces, n_sample):\n",
    "    # -------- TODO -----------\n",
    "    # 1. compute area of each triangles\n",
    "    # 2. compute probability of each triangles from areas\n",
    "    # 3. sample N faces according to the probability\n",
    "    # 4. for each face, sample 1 point\n",
    "    # Note that FOR-LOOP is not allowed!\n",
    "    # -------- TODO -----------\n",
    "\n",
    "    triangles = vertices[faces]  # -> (n_triangles, 3, 3)\n",
    "\n",
    "    # 1. 使用海伦公式计算每个三角形的面积 (Ref: https://zh.m.wikipedia.org/zh-hk/海伦公式)\n",
    "    a = np.sqrt(np.sum(np.square(triangles[:, 0] - triangles[:, 1]), axis=1))\n",
    "    b = np.sqrt(np.sum(np.square(triangles[:, 1] - triangles[:, 2]), axis=1))\n",
    "    c = np.sqrt(np.sum(np.square(triangles[:, 2] - triangles[:, 0]), axis=1))\n",
    "    s = (a + b + c) / 2\n",
    "    area = np.sqrt(s * (s - a) * (s - b) * (s - c))\n",
    "\n",
    "    # 2. 计算每个三角形的面积占总表面积的比例\n",
    "    prob = area / area.sum()\n",
    "\n",
    "    # 3. 根据占比抽 n_sample 个三角形\n",
    "    rand_indices = np.random.choice(range(triangles.shape[0]), size=n_sample, p=prob)\n",
    "    rand_triangles = triangles[rand_indices]\n",
    "\n",
    "    # 4. 在每个三角形上抽一个点 (Ref: https://blogs.sas.com/content/iml/2020/10/19/random-points-in-triangle.html)\n",
    "    P1 = rand_triangles[:, 0]\n",
    "    P2 = rand_triangles[:, 1]\n",
    "    P3 = rand_triangles[:, 2]\n",
    "    a = P2 - P1\n",
    "    b = P3 - P1\n",
    "    u1 = np.random.rand(rand_triangles.shape[0])\n",
    "    u2 = np.random.rand(rand_triangles.shape[0])\n",
    "    temp_indices = u1 + u2 > 1\n",
    "    u1[temp_indices] = 1 - u1[temp_indices]\n",
    "    u2[temp_indices] = 1 - u2[temp_indices]\n",
    "    w = u1[:, np.newaxis] * a + u2[:, np.newaxis] * b\n",
    "    uniform_pc = w + P1\n",
    "\n",
    "    return area, prob, uniform_pc\n",
    "        "
   ]
  },
  {
   "cell_type": "code",
   "execution_count": 9,
   "metadata": {
    "pycharm": {
     "name": "#%%\n"
    }
   },
   "outputs": [],
   "source": [
    "def farthest_point_sampling(point_cloud, n_sample):\n",
    "    # -------- TODO -----------\n",
    "    # FOR LOOP is allowed here.\n",
    "    # -------- TODO -----------\n",
    "\n",
    "    remains = np.copy(point_cloud)      # 最后 i 个是无效的\n",
    "    results = np.zeros((n_sample, 3))   # 前 i 个是有效的\n",
    "\n",
    "    # 不妨以最后一个点作为初始点\n",
    "    results[0] = remains[-1]\n",
    "\n",
    "    for i in tqdm.trange(1, n_sample):\n",
    "        U = remains[:-i]    # 尚未被加入 results 的点\n",
    "        S = results[:i]     # 已决定加入 results 的点\n",
    "        # 从 S 中选择一个点 (一行) s, 满足 s 到 U 的 [最小距离] 最大\n",
    "        U = U.reshape(U.shape[0], 1, 3)\n",
    "        S = S.reshape(1, S.shape[0], 3)\n",
    "        dist = np.sum(np.square(S - U), axis=-1)\n",
    "        min_dist = np.min(dist, axis=-1)    # [最小距离]\n",
    "        max_idx = np.argmax(min_dist)       # 找出 S 中与 U 的 [最小距离] 最大的点 s\n",
    "        # 下面将 remains[max_idx] 加入到 results 中\n",
    "        results[i] = remains[max_idx]       # results.append(s)\n",
    "        remains[max_idx] = remains[-i - 1]  # remains.remove(max_idx)\n",
    "\n",
    "    return results"
   ]
  },
  {
   "cell_type": "code",
   "execution_count": 10,
   "metadata": {
    "pycharm": {
     "name": "#%%\n"
    }
   },
   "outputs": [
    {
     "name": "stdout",
     "output_type": "stream",
     "text": [
      "faces shape:  (13712, 3)\n",
      "area shape:  (13712,)\n",
      "prob shape:  (13712,)\n",
      "pc shape:  (512, 3)\n"
     ]
    }
   ],
   "source": [
    "# task 1: uniform sampling \n",
    "\n",
    "obj_path = 'spot.obj'\n",
    "mesh = trimesh.load(obj_path)\n",
    "print('faces shape: ', mesh.faces.shape)\n",
    "sample_num = 512\n",
    "area, prob, uniform_pc = uniform_sampling_from_mesh(mesh.vertices, mesh.faces, sample_num)\n",
    "\n",
    "# Visualization. For you to check your code\n",
    "np.savetxt('uniform_sampling_vis.txt', uniform_pc)\n",
    "\n",
    "print('area shape: ',area.shape)\n",
    "print('prob shape: ',prob.shape)\n",
    "print('pc shape: ',uniform_pc.shape)\n",
    "# the result should satisfy: \n",
    "#       area.shape = (13712, ) \n",
    "#       prob.shape = (13712, ) \n",
    "#       uniform_pc.shape = (512, 3) \n",
    "\n",
    "# For submission\n",
    "save_dict = {'area': area, 'prob': prob, 'pc': uniform_pc}\n",
    "np.save('../results/uniform_sampling_results', save_dict)"
   ]
  },
  {
   "cell_type": "code",
   "execution_count": 11,
   "metadata": {
    "pycharm": {
     "name": "#%%\n"
    }
   },
   "outputs": [
    {
     "name": "stderr",
     "output_type": "stream",
     "text": [
      "100%|██████████| 511/511 [00:06<00:00, 84.52it/s] \n"
     ]
    }
   ],
   "source": [
    "# task 2: FPS\n",
    "\n",
    "init_sample_num = 2000\n",
    "final_sample_num = 512\n",
    "_,_, tmp_pc = uniform_sampling_from_mesh(mesh.vertices, mesh.faces, init_sample_num)\n",
    "fps_pc = farthest_point_sampling(tmp_pc, final_sample_num)\n",
    "\n",
    "# Visualization. For you to check your code\n",
    "np.savetxt('fps_vis.txt', fps_pc)\n",
    "\n",
    "# For submission\n",
    "np.save('../results/fps_results', fps_pc)"
   ]
  },
  {
   "cell_type": "code",
   "execution_count": 12,
   "metadata": {
    "pycharm": {
     "name": "#%%\n"
    }
   },
   "outputs": [
    {
     "name": "stderr",
     "output_type": "stream",
     "text": [
      "100%|██████████| 511/511 [00:05<00:00, 86.51it/s] \n",
      "100%|██████████| 511/511 [00:05<00:00, 92.80it/s] \n",
      "100%|██████████| 511/511 [00:05<00:00, 92.35it/s] \n",
      "100%|██████████| 511/511 [00:05<00:00, 92.04it/s] \n",
      "100%|██████████| 511/511 [00:05<00:00, 92.06it/s] \n"
     ]
    }
   ],
   "source": [
    "# task 3: metrics\n",
    "\n",
    "from earthmover.earthmover import earthmover_distance   # EMD may be very slow (1~2mins)\n",
    "# -----------TODO---------------\n",
    "# compute chamfer distance and EMD for two point clouds sampled by uniform sampling and FPS.\n",
    "# sample and compute CD and EMD again. repeat for five times.\n",
    "# save the mean and var.\n",
    "# -----------TODO---------------\n",
    "\n",
    "def chamfer_distance(S1: np.ndarray, S2: np.ndarray):\n",
    "    S1 = S1.reshape((S1.shape[0], 1, 3))\n",
    "    S2 = S2.reshape((1, S2.shape[0], 3))\n",
    "    dist_mat = np.sqrt(np.sum((S1 - S2) ** 2, axis=-1))\n",
    "    chf_dist = np.mean(np.min(dist_mat, axis=0)) + np.mean(np.min(dist_mat, axis=1))\n",
    "    return chf_dist\n",
    "\n",
    "CDs = []\n",
    "EMDs = []\n",
    "\n",
    "for _ in range(5):\n",
    "    # 分别用 uniform 方法和 fps 方法采样\n",
    "    uniform_pc = uniform_sampling_from_mesh(mesh.vertices, mesh.faces, sample_num)[2]\n",
    "    tmp_pc = uniform_sampling_from_mesh(mesh.vertices, mesh.faces, init_sample_num)[2]\n",
    "    fps_pc = farthest_point_sampling(tmp_pc, final_sample_num)\n",
    "    # 计算两个采样之间的距离\n",
    "    to_list_of_tuple = lambda matrix: [tuple(row) for row in matrix]\n",
    "    CDs.append(chamfer_distance(uniform_pc, fps_pc))\n",
    "    EMDs.append(earthmover_distance(to_list_of_tuple(uniform_pc), to_list_of_tuple(fps_pc)))\n",
    "\n",
    "CD_mean = np.mean(CDs)\n",
    "CD_var = np.var(CDs)\n",
    "EMD_mean = np.mean(EMDs)\n",
    "EMD_var = np.var(EMDs)\n",
    "\n",
    "# For submission\n",
    "np.save('../results/metrics', {'CD_mean':CD_mean, 'CD_var':CD_var, 'EMD_mean':EMD_mean, 'EMD_var':EMD_var})"
   ]
  }
 ],
 "metadata": {
  "interpreter": {
   "hash": "b99e030e7d8517218fe5297eb937f74701cfa6fd19eb7299fb48d65d491617c9"
  },
  "kernelspec": {
   "display_name": "Python 3.7.11 ('h2o')",
   "language": "python",
   "name": "python3"
  },
  "language_info": {
   "codemirror_mode": {
    "name": "ipython",
    "version": 3
   },
   "file_extension": ".py",
   "mimetype": "text/x-python",
   "name": "python",
   "nbconvert_exporter": "python",
   "pygments_lexer": "ipython3",
   "version": "3.7.4"
  },
  "orig_nbformat": 4
 },
 "nbformat": 4,
 "nbformat_minor": 2
}