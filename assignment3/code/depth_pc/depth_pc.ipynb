{
 "cells": [
  {
   "cell_type": "code",
   "execution_count": 46,
   "metadata": {
    "pycharm": {
     "name": "#%%\n"
    }
   },
   "outputs": [],
   "source": [
    "import numpy as np\n",
    "import cv2\n",
    "np.random.seed(17785)"
   ]
  },
  {
   "cell_type": "code",
   "execution_count": 47,
   "metadata": {
    "pycharm": {
     "name": "#%%\n"
    }
   },
   "outputs": [
    {
     "name": "stdout",
     "output_type": "stream",
     "text": [
      "[[415.69219382   0.         320.        ]\n",
      " [  0.         415.69219382 240.        ]\n",
      " [  0.           0.           1.        ]]\n"
     ]
    }
   ],
   "source": [
    "# read depth image\n",
    "depth_scale = 0.00012498664727900177\n",
    "depth_img = cv2.imread('depth.png')\n",
    "dpt = depth_img[:, :, 2] + depth_img[:, :, 1] * 256\n",
    "dpt = dpt * depth_scale\n",
    "\n",
    "# read seg image\n",
    "seg = cv2.imread('seg.png')[...,0]  # 255: fore ground, 0: background\n",
    "\n",
    "# 看看 dpt (深度图) 和 seg (mask图) 长啥样\n",
    "if show := False:\n",
    "    import matplotlib.pyplot as plt\n",
    "    plt.matshow(dpt); plt.show()\n",
    "    plt.matshow(seg); plt.show()\n",
    "\n",
    "# read intrinsics and extrinsics\n",
    "K = np.load('intrinsic.npy')\n",
    "print(K)"
   ]
  },
  {
   "cell_type": "code",
   "execution_count": 48,
   "metadata": {
    "pycharm": {
     "name": "#%%\n"
    }
   },
   "outputs": [],
   "source": [
    "# task1: convert depth image to point cloud\n",
    "def depth2pc(depth, seg, intrinsic_mat):\n",
    "    # ------------TODO---------------\n",
    "    # compute point cloud from depth image\n",
    "    # for-loop is not allowed!!\n",
    "    # ------------TODO --------------\n",
    "\n",
    "    # 找出 mask 对应的那些 (x, y, depth)\n",
    "    y_grid, x_grid = np.meshgrid(range(depth.shape[1]), range(depth.shape[0]))\n",
    "    mask = seg.astype(bool)\n",
    "    x = x_grid[mask]\n",
    "    y = y_grid[mask]\n",
    "    x, y = y, x         # 这里是亡羊补牢的修正, 因为题目似乎认为 x 是水平的, y 是竖直的\n",
    "    depth = depth[mask]\n",
    "    # 补成齐次坐标\n",
    "    xy1 = np.vstack([x, y, np.ones(x.shape)])\n",
    "    # 计算三维坐标 (当然, 还差一个 [倍数])\n",
    "    xyz = np.linalg.inv(intrinsic_mat) @ xy1\n",
    "    # 下面根据深度值 (z 值!) 来计算这个 [倍数] 并应用到 xyz 上\n",
    "    current_z = xyz[-1]\n",
    "    target_z = depth\n",
    "    ratio = target_z / current_z\n",
    "    pc = (xyz * ratio).T.copy()\n",
    "    return pc\n",
    "\n",
    "partial_pc = depth2pc(dpt, seg, K)\n",
    "\n",
    "# For debug and submission\n",
    "np.savetxt('../results/pc_from_depth.txt', partial_pc)"
   ]
  },
  {
   "cell_type": "code",
   "execution_count": 49,
   "outputs": [
    {
     "name": "stdout",
     "output_type": "stream",
     "text": [
      "one way chamfer distance:  0.00974205457691213\n"
     ]
    }
   ],
   "source": [
    "# task2: compute one-way chamfer distance to the complete shape\n",
    "# Note that 'full_pc.txt' is the point cloud sampled from the mesh before rendering to depth image.\n",
    "# Since the default direction of the camera in PyRender is (0,0,-1), you may find the results of your back projection is not aligned with 'full_pc.txt'.\n",
    "# To avoid confusion, we provide 'aligned_full_pc.txt', which should be aligned with your resulted point cloud.\n",
    "full_pc = np.loadtxt('aligned_full_pc.txt')\n",
    "\n",
    "def random_sample(pc, num):\n",
    "    permu = np.random.permutation(pc.shape[0])\n",
    "    return pc[permu][:num]\n",
    "\n",
    "partial_pc_sampled = random_sample(partial_pc, 2048)\n",
    "full_pc_sampled = random_sample(full_pc, 2048)\n",
    "\n",
    "# -----------TODO---------------\n",
    "# implement one way chamfer distance\n",
    "# -----------TODO---------------\n",
    "\n",
    "def one_way_chamfer_distance(approx: np.ndarray, target: np.ndarray):\n",
    "    approx = approx.reshape((approx.shape[0], 1, 3))\n",
    "    target = target.reshape((1, target.shape[0], 3))\n",
    "    dist_mat = np.sqrt(np.sum((approx - target) ** 2, axis=-1))\n",
    "    chf_dist = np.mean(np.min(dist_mat, axis=1))\n",
    "    return chf_dist\n",
    "\n",
    "one_way_CD = one_way_chamfer_distance(partial_pc_sampled, full_pc_sampled)\n",
    "print('one way chamfer distance: ', one_way_CD)\n",
    "\n",
    "# For submission\n",
    "np.savetxt('../results/one_way_CD.txt', [one_way_CD])"
   ],
   "metadata": {
    "collapsed": false,
    "pycharm": {
     "name": "#%%\n"
    }
   }
  }
 ],
 "metadata": {
  "interpreter": {
   "hash": "b4ffbbff3239a731f5036eedf271342b6e0256ecf54d21a0ffa848ef6f1f16b8"
  },
  "kernelspec": {
   "display_name": "Python 3.8.8 ('base')",
   "language": "python",
   "name": "python3"
  },
  "language_info": {
   "codemirror_mode": {
    "name": "ipython",
    "version": 3
   },
   "file_extension": ".py",
   "mimetype": "text/x-python",
   "name": "python",
   "nbconvert_exporter": "python",
   "pygments_lexer": "ipython3",
   "version": "3.7.11"
  },
  "orig_nbformat": 4
 },
 "nbformat": 4,
 "nbformat_minor": 2
}